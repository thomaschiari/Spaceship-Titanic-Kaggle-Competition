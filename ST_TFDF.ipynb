{
 "cells": [
  {
   "cell_type": "markdown",
   "metadata": {
    "id": "view-in-github",
    "colab_type": "text",
    "pycharm": {
     "name": "#%% md\n"
    }
   },
   "source": [
    "<a href=\"https://colab.research.google.com/github/thomaschiari/Spaceship-Titanic-Kaggle-Competition/blob/main/ST_TFDF.ipynb\" target=\"_parent\"><img src=\"https://colab.research.google.com/assets/colab-badge.svg\" alt=\"Open In Colab\"/></a>"
   ]
  },
  {
   "cell_type": "markdown",
   "source": [
    "# Spaceship Titanic utilizando TensorFlow\n",
    "\n",
    "Agora vamos utilizar as árvores de decisão da biblioteca TensorFlow para prever se um passageiro foi transportado ou não da nave Titanic."
   ],
   "metadata": {
    "collapsed": false,
    "pycharm": {
     "name": "#%% md\n"
    },
    "id": "OaGpxXPTgFZp"
   }
  },
  {
   "cell_type": "code",
   "execution_count": 25,
   "outputs": [],
   "source": [
    "import pandas as pd\n",
    "import matplotlib.pyplot as plt\n",
    "import seaborn as sns\n",
    "import warnings\n",
    "import sys\n",
    "import logging\n",
    "import os\n",
    "import numpy as np\n",
    "import tensorflow_decision_forests as tfdf\n",
    "warnings.filterwarnings('ignore')\n",
    "logging.disable(sys.maxsize)"
   ],
   "metadata": {
    "collapsed": false,
    "pycharm": {
     "name": "#%%\n"
    }
   }
  },
  {
   "cell_type": "code",
   "execution_count": 26,
   "outputs": [],
   "source": [
    "train = pd.read_csv(os.path.join('data', 'train.csv'))\n",
    "test = pd.read_csv(os.path.join('data', 'test.csv'))"
   ],
   "metadata": {
    "pycharm": {
     "name": "#%%\n"
    },
    "id": "6TMp04LzgFZs"
   }
  },
  {
   "cell_type": "code",
   "execution_count": 27,
   "outputs": [
    {
     "data": {
      "text/plain": "  PassengerId HomePlanet CryoSleep  Cabin  Destination   Age    VIP   \n0     0001_01     Europa     False  B/0/P  TRAPPIST-1e  39.0  False  \\\n1     0002_01      Earth     False  F/0/S  TRAPPIST-1e  24.0  False   \n2     0003_01     Europa     False  A/0/S  TRAPPIST-1e  58.0   True   \n3     0003_02     Europa     False  A/0/S  TRAPPIST-1e  33.0  False   \n4     0004_01      Earth     False  F/1/S  TRAPPIST-1e  16.0  False   \n\n   RoomService  FoodCourt  ShoppingMall     Spa  VRDeck               Name   \n0          0.0        0.0           0.0     0.0     0.0    Maham Ofracculy  \\\n1        109.0        9.0          25.0   549.0    44.0       Juanna Vines   \n2         43.0     3576.0           0.0  6715.0    49.0      Altark Susent   \n3          0.0     1283.0         371.0  3329.0   193.0       Solam Susent   \n4        303.0       70.0         151.0   565.0     2.0  Willy Santantines   \n\n   Transported  \n0        False  \n1         True  \n2        False  \n3        False  \n4         True  ",
      "text/html": "<div>\n<style scoped>\n    .dataframe tbody tr th:only-of-type {\n        vertical-align: middle;\n    }\n\n    .dataframe tbody tr th {\n        vertical-align: top;\n    }\n\n    .dataframe thead th {\n        text-align: right;\n    }\n</style>\n<table border=\"1\" class=\"dataframe\">\n  <thead>\n    <tr style=\"text-align: right;\">\n      <th></th>\n      <th>PassengerId</th>\n      <th>HomePlanet</th>\n      <th>CryoSleep</th>\n      <th>Cabin</th>\n      <th>Destination</th>\n      <th>Age</th>\n      <th>VIP</th>\n      <th>RoomService</th>\n      <th>FoodCourt</th>\n      <th>ShoppingMall</th>\n      <th>Spa</th>\n      <th>VRDeck</th>\n      <th>Name</th>\n      <th>Transported</th>\n    </tr>\n  </thead>\n  <tbody>\n    <tr>\n      <th>0</th>\n      <td>0001_01</td>\n      <td>Europa</td>\n      <td>False</td>\n      <td>B/0/P</td>\n      <td>TRAPPIST-1e</td>\n      <td>39.0</td>\n      <td>False</td>\n      <td>0.0</td>\n      <td>0.0</td>\n      <td>0.0</td>\n      <td>0.0</td>\n      <td>0.0</td>\n      <td>Maham Ofracculy</td>\n      <td>False</td>\n    </tr>\n    <tr>\n      <th>1</th>\n      <td>0002_01</td>\n      <td>Earth</td>\n      <td>False</td>\n      <td>F/0/S</td>\n      <td>TRAPPIST-1e</td>\n      <td>24.0</td>\n      <td>False</td>\n      <td>109.0</td>\n      <td>9.0</td>\n      <td>25.0</td>\n      <td>549.0</td>\n      <td>44.0</td>\n      <td>Juanna Vines</td>\n      <td>True</td>\n    </tr>\n    <tr>\n      <th>2</th>\n      <td>0003_01</td>\n      <td>Europa</td>\n      <td>False</td>\n      <td>A/0/S</td>\n      <td>TRAPPIST-1e</td>\n      <td>58.0</td>\n      <td>True</td>\n      <td>43.0</td>\n      <td>3576.0</td>\n      <td>0.0</td>\n      <td>6715.0</td>\n      <td>49.0</td>\n      <td>Altark Susent</td>\n      <td>False</td>\n    </tr>\n    <tr>\n      <th>3</th>\n      <td>0003_02</td>\n      <td>Europa</td>\n      <td>False</td>\n      <td>A/0/S</td>\n      <td>TRAPPIST-1e</td>\n      <td>33.0</td>\n      <td>False</td>\n      <td>0.0</td>\n      <td>1283.0</td>\n      <td>371.0</td>\n      <td>3329.0</td>\n      <td>193.0</td>\n      <td>Solam Susent</td>\n      <td>False</td>\n    </tr>\n    <tr>\n      <th>4</th>\n      <td>0004_01</td>\n      <td>Earth</td>\n      <td>False</td>\n      <td>F/1/S</td>\n      <td>TRAPPIST-1e</td>\n      <td>16.0</td>\n      <td>False</td>\n      <td>303.0</td>\n      <td>70.0</td>\n      <td>151.0</td>\n      <td>565.0</td>\n      <td>2.0</td>\n      <td>Willy Santantines</td>\n      <td>True</td>\n    </tr>\n  </tbody>\n</table>\n</div>"
     },
     "execution_count": 27,
     "metadata": {},
     "output_type": "execute_result"
    }
   ],
   "source": [
    "train.head()"
   ],
   "metadata": {
    "pycharm": {
     "name": "#%%\n"
    },
    "id": "DcHv47J_gFZs",
    "outputId": "3166f2b6-da9e-4f04-83e0-d85b2e9593ed",
    "colab": {
     "base_uri": "https://localhost:8080/",
     "height": 206
    }
   }
  },
  {
   "cell_type": "markdown",
   "source": [
    "### Tratando os dados"
   ],
   "metadata": {
    "collapsed": false,
    "pycharm": {
     "name": "#%% md\n"
    },
    "id": "IGAlSrjtgFZt"
   }
  },
  {
   "cell_type": "code",
   "execution_count": 28,
   "outputs": [],
   "source": [
    "train_ = train.drop(['PassengerId', 'Name'], axis=1)"
   ],
   "metadata": {
    "pycharm": {
     "name": "#%%\n"
    },
    "id": "LFssxvMAgFZt"
   }
  },
  {
   "cell_type": "markdown",
   "source": [
    "Nesse dataset, para os valores numéricos que estão nulos, vamos preencher com 0. Para os valores categóricos que estão nulos, vamos deixar a biblioteca TFDF lidar com isso."
   ],
   "metadata": {
    "collapsed": false,
    "pycharm": {
     "name": "#%% md\n"
    },
    "id": "vq0fUhYfgFZu"
   }
  },
  {
   "cell_type": "code",
   "execution_count": 29,
   "outputs": [],
   "source": [
    "num_cols = train_.select_dtypes(include=['int64', 'float64']).columns\n",
    "train_[num_cols] = train_[num_cols].fillna(0)"
   ],
   "metadata": {
    "pycharm": {
     "name": "#%%\n"
    },
    "id": "8vzDuCwegFZu"
   }
  },
  {
   "cell_type": "markdown",
   "source": [
    "A biblioteca TFDF não consegue lidar com booleanos, então ajustaremos a variável resposta para um inteiro."
   ],
   "metadata": {
    "collapsed": false,
    "pycharm": {
     "name": "#%% md\n"
    },
    "id": "ClCOf5UegFZu"
   }
  },
  {
   "cell_type": "code",
   "execution_count": 30,
   "outputs": [],
   "source": [
    "train_.Transported = train.Transported.astype(int)\n",
    "train_.VIP = train_.VIP.astype(bool).astype(int)\n",
    "train_.CryoSleep = train_.CryoSleep.astype(bool).astype(int)"
   ],
   "metadata": {
    "pycharm": {
     "name": "#%%\n"
    },
    "id": "miCE0GyTgFZv"
   }
  },
  {
   "cell_type": "markdown",
   "source": [
    "Outro fator importante é o número da cabine. Pela documentação do dataset, temos que a primeira parte da string presente em cada observação é o Deck em que o passageiro está presente, seguido pelo número da cabine e pelo lado da nave. Essas informações podem vir a ser importantes, e como estão separadas por uma barra, vamos criar novas colunas para cada uma delas."
   ],
   "metadata": {
    "collapsed": false,
    "pycharm": {
     "name": "#%% md\n"
    },
    "id": "ChHvVHe2gFZv"
   }
  },
  {
   "cell_type": "code",
   "execution_count": 31,
   "outputs": [],
   "source": [
    "train_[['Deck', 'Cabin', 'Side']] = train_.Cabin.str.split('/', expand=True)\n",
    "try:\n",
    "    train_ = train_.drop(['Cabin'], axis=1)\n",
    "except:\n",
    "    pass"
   ],
   "metadata": {
    "pycharm": {
     "name": "#%%\n"
    },
    "id": "ilg-hGqIgFZv"
   }
  },
  {
   "cell_type": "code",
   "execution_count": 32,
   "outputs": [
    {
     "data": {
      "text/plain": "  HomePlanet  CryoSleep  Destination   Age  VIP  RoomService  FoodCourt   \n0     Europa          0  TRAPPIST-1e  39.0    0          0.0        0.0  \\\n1      Earth          0  TRAPPIST-1e  24.0    0        109.0        9.0   \n2     Europa          0  TRAPPIST-1e  58.0    1         43.0     3576.0   \n3     Europa          0  TRAPPIST-1e  33.0    0          0.0     1283.0   \n4      Earth          0  TRAPPIST-1e  16.0    0        303.0       70.0   \n\n   ShoppingMall     Spa  VRDeck  Transported Deck Side  \n0           0.0     0.0     0.0            0    B    P  \n1          25.0   549.0    44.0            1    F    S  \n2           0.0  6715.0    49.0            0    A    S  \n3         371.0  3329.0   193.0            0    A    S  \n4         151.0   565.0     2.0            1    F    S  ",
      "text/html": "<div>\n<style scoped>\n    .dataframe tbody tr th:only-of-type {\n        vertical-align: middle;\n    }\n\n    .dataframe tbody tr th {\n        vertical-align: top;\n    }\n\n    .dataframe thead th {\n        text-align: right;\n    }\n</style>\n<table border=\"1\" class=\"dataframe\">\n  <thead>\n    <tr style=\"text-align: right;\">\n      <th></th>\n      <th>HomePlanet</th>\n      <th>CryoSleep</th>\n      <th>Destination</th>\n      <th>Age</th>\n      <th>VIP</th>\n      <th>RoomService</th>\n      <th>FoodCourt</th>\n      <th>ShoppingMall</th>\n      <th>Spa</th>\n      <th>VRDeck</th>\n      <th>Transported</th>\n      <th>Deck</th>\n      <th>Side</th>\n    </tr>\n  </thead>\n  <tbody>\n    <tr>\n      <th>0</th>\n      <td>Europa</td>\n      <td>0</td>\n      <td>TRAPPIST-1e</td>\n      <td>39.0</td>\n      <td>0</td>\n      <td>0.0</td>\n      <td>0.0</td>\n      <td>0.0</td>\n      <td>0.0</td>\n      <td>0.0</td>\n      <td>0</td>\n      <td>B</td>\n      <td>P</td>\n    </tr>\n    <tr>\n      <th>1</th>\n      <td>Earth</td>\n      <td>0</td>\n      <td>TRAPPIST-1e</td>\n      <td>24.0</td>\n      <td>0</td>\n      <td>109.0</td>\n      <td>9.0</td>\n      <td>25.0</td>\n      <td>549.0</td>\n      <td>44.0</td>\n      <td>1</td>\n      <td>F</td>\n      <td>S</td>\n    </tr>\n    <tr>\n      <th>2</th>\n      <td>Europa</td>\n      <td>0</td>\n      <td>TRAPPIST-1e</td>\n      <td>58.0</td>\n      <td>1</td>\n      <td>43.0</td>\n      <td>3576.0</td>\n      <td>0.0</td>\n      <td>6715.0</td>\n      <td>49.0</td>\n      <td>0</td>\n      <td>A</td>\n      <td>S</td>\n    </tr>\n    <tr>\n      <th>3</th>\n      <td>Europa</td>\n      <td>0</td>\n      <td>TRAPPIST-1e</td>\n      <td>33.0</td>\n      <td>0</td>\n      <td>0.0</td>\n      <td>1283.0</td>\n      <td>371.0</td>\n      <td>3329.0</td>\n      <td>193.0</td>\n      <td>0</td>\n      <td>A</td>\n      <td>S</td>\n    </tr>\n    <tr>\n      <th>4</th>\n      <td>Earth</td>\n      <td>0</td>\n      <td>TRAPPIST-1e</td>\n      <td>16.0</td>\n      <td>0</td>\n      <td>303.0</td>\n      <td>70.0</td>\n      <td>151.0</td>\n      <td>565.0</td>\n      <td>2.0</td>\n      <td>1</td>\n      <td>F</td>\n      <td>S</td>\n    </tr>\n  </tbody>\n</table>\n</div>"
     },
     "execution_count": 32,
     "metadata": {},
     "output_type": "execute_result"
    }
   ],
   "source": [
    "train_.head()"
   ],
   "metadata": {
    "pycharm": {
     "name": "#%%\n"
    },
    "id": "3kMtphssgFZv",
    "outputId": "77dd14b0-85ab-4edb-f3e8-4473db7db824",
    "colab": {
     "base_uri": "https://localhost:8080/",
     "height": 206
    }
   }
  },
  {
   "cell_type": "markdown",
   "source": [
    "### Criando o modelo\n",
    "\n",
    "Para saber mais sobre o funcionamento do modelo, verificar a documentação, disponível [aqui](https://www.tensorflow.org/decision_forests/api_docs/python/tfdf/keras/RandomForestModel)."
   ],
   "metadata": {
    "collapsed": false,
    "pycharm": {
     "name": "#%% md\n"
    },
    "id": "xyG8vxRhgFZw"
   }
  },
  {
   "cell_type": "code",
   "execution_count": 33,
   "outputs": [
    {
     "name": "stdout",
     "output_type": "stream",
     "text": [
      "Resolve hyper-parameter template \"benchmark_rank1\" to \"benchmark_rank1@v1\" -> {'winner_take_all': True, 'categorical_algorithm': 'RANDOM', 'split_axis': 'SPARSE_OBLIQUE', 'sparse_oblique_normalization': 'MIN_MAX', 'sparse_oblique_num_projections_exponent': 1.0}.\n",
      "Use /tmp/tmpx3au3ixp as temporary training directory\n"
     ]
    }
   ],
   "source": [
    "train_ds = tfdf.keras.pd_dataframe_to_tf_dataset(train_, label='Transported')\n",
    "\n",
    "rf = tfdf.keras.RandomForestModel(hyperparameter_template='benchmark_rank1')"
   ],
   "metadata": {
    "pycharm": {
     "name": "#%%\n"
    },
    "id": "vdcKyU0mgFZw",
    "outputId": "335da266-9d5e-4fbc-d8f6-4ee0f114bb91",
    "colab": {
     "base_uri": "https://localhost:8080/"
    }
   }
  },
  {
   "cell_type": "code",
   "execution_count": 34,
   "outputs": [],
   "source": [
    "rf.compile(metrics=['accuracy'])"
   ],
   "metadata": {
    "pycharm": {
     "name": "#%%\n"
    },
    "id": "wTf2g0CkgFZw"
   }
  },
  {
   "cell_type": "code",
   "execution_count": 35,
   "outputs": [
    {
     "name": "stdout",
     "output_type": "stream",
     "text": [
      "Reading training dataset...\n"
     ]
    },
    {
     "name": "stderr",
     "output_type": "stream",
     "text": [
      "2023-04-26 20:19:07.141902: I tensorflow/core/common_runtime/executor.cc:1197] [/device:CPU:0] (DEBUG INFO) Executor start aborting (this does not indicate an error and you can ignore this message): INVALID_ARGUMENT: You must feed a value for placeholder tensor 'Placeholder/_0' with dtype double and shape [8693]\n",
      "\t [[{{node Placeholder/_0}}]]\n"
     ]
    },
    {
     "name": "stdout",
     "output_type": "stream",
     "text": [
      "Training dataset read in 0:00:00.348708. Found 8693 examples.\n",
      "Training model...\n"
     ]
    },
    {
     "name": "stderr",
     "output_type": "stream",
     "text": [
      "[INFO 23-04-26 20:19:11.8442 -03 kernel.cc:1242] Loading model from path /tmp/tmpx3au3ixp/model/ with prefix 02827165eafc446a\n"
     ]
    },
    {
     "name": "stdout",
     "output_type": "stream",
     "text": [
      "Model trained in 0:00:05.402594\n",
      "Compiling model...\n"
     ]
    },
    {
     "name": "stderr",
     "output_type": "stream",
     "text": [
      "[INFO 23-04-26 20:19:12.8253 -03 decision_forest.cc:660] Model loaded with 300 root(s), 258566 node(s), and 12 input feature(s).\n",
      "[INFO 23-04-26 20:19:12.8253 -03 abstract_model.cc:1311] Engine \"RandomForestGeneric\" built\n",
      "[INFO 23-04-26 20:19:12.8254 -03 kernel.cc:1074] Use fast generic engine\n",
      "2023-04-26 20:19:12.965018: I tensorflow/core/common_runtime/executor.cc:1197] [/device:CPU:0] (DEBUG INFO) Executor start aborting (this does not indicate an error and you can ignore this message): INVALID_ARGUMENT: You must feed a value for placeholder tensor 'Placeholder/_7' with dtype double and shape [8693]\n",
      "\t [[{{node Placeholder/_7}}]]\n"
     ]
    },
    {
     "name": "stdout",
     "output_type": "stream",
     "text": [
      "Model compiled.\n"
     ]
    },
    {
     "data": {
      "text/plain": "<keras.callbacks.History at 0x7f1e141341f0>"
     },
     "execution_count": 35,
     "metadata": {},
     "output_type": "execute_result"
    }
   ],
   "source": [
    "rf.fit(x=train_ds)"
   ],
   "metadata": {
    "pycharm": {
     "name": "#%%\n"
    },
    "id": "hUAqvn48gFZw",
    "outputId": "c63d33d4-b637-4484-cd97-9e070528b0c7",
    "colab": {
     "base_uri": "https://localhost:8080/"
    }
   }
  },
  {
   "cell_type": "code",
   "execution_count": 36,
   "outputs": [
    {
     "data": {
      "text/plain": "<IPython.core.display.HTML object>",
      "text/html": "\n<script src=\"https://d3js.org/d3.v6.min.js\"></script>\n<div id=\"tree_plot_84fcfe1c9b7d40e5902722566e469a31\"></div>\n<script>\n/*\n * Copyright 2021 Google LLC.\n * Licensed under the Apache License, Version 2.0 (the \"License\");\n * you may not use this file except in compliance with the License.\n * You may obtain a copy of the License at\n *\n *     https://www.apache.org/licenses/LICENSE-2.0\n *\n * Unless required by applicable law or agreed to in writing, software\n * distributed under the License is distributed on an \"AS IS\" BASIS,\n * WITHOUT WARRANTIES OR CONDITIONS OF ANY KIND, either express or implied.\n * See the License for the specific language governing permissions and\n * limitations under the License.\n */\n\n/**\n *  Plotting of decision trees generated by TF-DF.\n *\n *  A tree is a recursive structure of node objects.\n *  A node contains one or more of the following components:\n *\n *    - A value: Representing the output of the node. If the node is not a leaf,\n *      the value is only present for analysis i.e. it is not used for\n *      predictions.\n *\n *    - A condition : For non-leaf nodes, the condition (also known as split)\n *      defines a binary test to branch to the positive or negative child.\n *\n *    - An explanation: Generally a plot showing the relation between the label\n *      and the condition to give insights about the effect of the condition.\n *\n *    - Two children : For non-leaf nodes, the children nodes. The first\n *      children (i.e. \"node.children[0]\") is the negative children (drawn in\n *      red). The second children is the positive one (drawn in green).\n *\n */\n\n/**\n * Plots a single decision tree into a DOM element.\n * @param {!options} options Dictionary of configurations.\n * @param {!tree} raw_tree Recursive tree structure.\n * @param {string} canvas_id Id of the output dom element.\n */\nfunction display_tree(options, raw_tree, canvas_id) {\n  console.log(options);\n\n  // Determine the node placement.\n  const tree_struct = d3.tree().nodeSize(\n      [options.node_y_offset, options.node_x_offset])(d3.hierarchy(raw_tree));\n\n  // Boundaries of the node placement.\n  let x_min = Infinity;\n  let x_max = -x_min;\n  let y_min = Infinity;\n  let y_max = -x_min;\n\n  tree_struct.each(d => {\n    if (d.x > x_max) x_max = d.x;\n    if (d.x < x_min) x_min = d.x;\n    if (d.y > y_max) y_max = d.y;\n    if (d.y < y_min) y_min = d.y;\n  });\n\n  // Size of the plot.\n  const width = y_max - y_min + options.node_x_size + options.margin * 2;\n  const height = x_max - x_min + options.node_y_size + options.margin * 2 +\n      options.node_y_offset - options.node_y_size;\n\n  const plot = d3.select(canvas_id);\n\n  // Tool tip\n  options.tooltip = plot.append('div')\n                        .attr('width', 100)\n                        .attr('height', 100)\n                        .style('padding', '4px')\n                        .style('background', '#fff')\n                        .style('box-shadow', '4px 4px 0px rgba(0,0,0,0.1)')\n                        .style('border', '1px solid black')\n                        .style('font-family', 'sans-serif')\n                        .style('font-size', options.font_size)\n                        .style('position', 'absolute')\n                        .style('z-index', '10')\n                        .attr('pointer-events', 'none')\n                        .style('display', 'none');\n\n  // Create canvas\n  const svg = plot.append('svg').attr('width', width).attr('height', height);\n  const graph =\n      svg.style('overflow', 'visible')\n          .append('g')\n          .attr('font-family', 'sans-serif')\n          .attr('font-size', options.font_size)\n          .attr(\n              'transform',\n              () => `translate(${options.margin},${\n                  - x_min + options.node_y_offset / 2 + options.margin})`);\n\n  // Plot bounding box.\n  if (options.show_plot_bounding_box) {\n    svg.append('rect')\n        .attr('width', width)\n        .attr('height', height)\n        .attr('fill', 'none')\n        .attr('stroke-width', 1.0)\n        .attr('stroke', 'black');\n  }\n\n  // Draw the edges.\n  display_edges(options, graph, tree_struct);\n\n  // Draw the nodes.\n  display_nodes(options, graph, tree_struct);\n}\n\n/**\n * Draw the nodes of the tree.\n * @param {!options} options Dictionary of configurations.\n * @param {!graph} graph D3 search handle containing the graph.\n * @param {!tree_struct} tree_struct Structure of the tree (node placement,\n *     data, etc.).\n */\nfunction display_nodes(options, graph, tree_struct) {\n  const nodes = graph.append('g')\n                    .selectAll('g')\n                    .data(tree_struct.descendants())\n                    .join('g')\n                    .attr('transform', d => `translate(${d.y},${d.x})`);\n\n  nodes.append('rect')\n      .attr('x', 0.5)\n      .attr('y', 0.5)\n      .attr('width', options.node_x_size)\n      .attr('height', options.node_y_size)\n      .attr('stroke', 'lightgrey')\n      .attr('stroke-width', 1)\n      .attr('fill', 'white')\n      .attr('y', -options.node_y_size / 2);\n\n  // Brackets on the right of condition nodes without children.\n  non_leaf_node_without_children =\n      nodes.filter(node => node.data.condition != null && node.children == null)\n          .append('g')\n          .attr('transform', `translate(${options.node_x_size},0)`);\n\n  non_leaf_node_without_children.append('path')\n      .attr('d', 'M0,0 C 10,0 0,10 10,10')\n      .attr('fill', 'none')\n      .attr('stroke-width', 1.0)\n      .attr('stroke', '#F00');\n\n  non_leaf_node_without_children.append('path')\n      .attr('d', 'M0,0 C 10,0 0,-10 10,-10')\n      .attr('fill', 'none')\n      .attr('stroke-width', 1.0)\n      .attr('stroke', '#0F0');\n\n  const node_content = nodes.append('g').attr(\n      'transform',\n      `translate(0,${options.node_padding - options.node_y_size / 2})`);\n\n  node_content.append(node => create_node_element(options, node));\n}\n\n/**\n * Creates the D3 content for a single node.\n * @param {!options} options Dictionary of configurations.\n * @param {!node} node Node to draw.\n * @return {!d3} D3 content.\n */\nfunction create_node_element(options, node) {\n  // Output accumulator.\n  let output = {\n    // Content to draw.\n    content: d3.create('svg:g'),\n    // Vertical offset to the next element to draw.\n    vertical_offset: 0\n  };\n\n  // Conditions.\n  if (node.data.condition != null) {\n    display_condition(options, node.data.condition, output);\n  }\n\n  // Values.\n  if (node.data.value != null) {\n    display_value(options, node.data.value, output);\n  }\n\n  // Explanations.\n  if (node.data.explanation != null) {\n    display_explanation(options, node.data.explanation, output);\n  }\n\n  return output.content.node();\n}\n\n\n/**\n * Adds a single line of text inside of a node.\n * @param {!options} options Dictionary of configurations.\n * @param {string} text Text to display.\n * @param {!output} output Output display accumulator.\n */\nfunction display_node_text(options, text, output) {\n  output.content.append('text')\n      .attr('x', options.node_padding)\n      .attr('y', output.vertical_offset)\n      .attr('alignment-baseline', 'hanging')\n      .text(text);\n  output.vertical_offset += 10;\n}\n\n/**\n * Adds a single line of text inside of a node with a tooltip.\n * @param {!options} options Dictionary of configurations.\n * @param {string} text Text to display.\n * @param {string} tooltip Text in the Tooltip.\n * @param {!output} output Output display accumulator.\n */\nfunction display_node_text_with_tooltip(options, text, tooltip, output) {\n  const item = output.content.append('text')\n                   .attr('x', options.node_padding)\n                   .attr('alignment-baseline', 'hanging')\n                   .text(text);\n\n  add_tooltip(options, item, () => tooltip);\n  output.vertical_offset += 10;\n}\n\n/**\n * Adds a tooltip to a dom element.\n * @param {!options} options Dictionary of configurations.\n * @param {!dom} target Dom element to equip with a tooltip.\n * @param {!func} get_content Generates the html content of the tooltip.\n */\nfunction add_tooltip(options, target, get_content) {\n  function show(d) {\n    options.tooltip.style('display', 'block');\n    options.tooltip.html(get_content());\n  }\n\n  function hide(d) {\n    options.tooltip.style('display', 'none');\n  }\n\n  function move(d) {\n    options.tooltip.style('display', 'block');\n    options.tooltip.style('left', (d.pageX + 5) + 'px');\n    options.tooltip.style('top', d.pageY + 'px');\n  }\n\n  target.on('mouseover', show);\n  target.on('mouseout', hide);\n  target.on('mousemove', move);\n}\n\n/**\n * Adds a condition inside of a node.\n * @param {!options} options Dictionary of configurations.\n * @param {!condition} condition Condition to display.\n * @param {!output} output Output display accumulator.\n */\nfunction display_condition(options, condition, output) {\n  threshold_format = d3.format('r');\n\n  if (condition.type === 'IS_MISSING') {\n    display_node_text(options, `${condition.attribute} is missing`, output);\n    return;\n  }\n\n  if (condition.type === 'IS_TRUE') {\n    display_node_text(options, `${condition.attribute} is true`, output);\n    return;\n  }\n\n  if (condition.type === 'NUMERICAL_IS_HIGHER_THAN') {\n    format = d3.format('r');\n    display_node_text(\n        options,\n        `${condition.attribute} >= ${threshold_format(condition.threshold)}`,\n        output);\n    return;\n  }\n\n  if (condition.type === 'CATEGORICAL_IS_IN') {\n    display_node_text_with_tooltip(\n        options, `${condition.attribute} in [...]`,\n        `${condition.attribute} in [${condition.mask}]`, output);\n    return;\n  }\n\n  if (condition.type === 'CATEGORICAL_SET_CONTAINS') {\n    display_node_text_with_tooltip(\n        options, `${condition.attribute} intersect [...]`,\n        `${condition.attribute} intersect [${condition.mask}]`, output);\n    return;\n  }\n\n  if (condition.type === 'NUMERICAL_SPARSE_OBLIQUE') {\n    display_node_text_with_tooltip(\n        options, `Sparse oblique split...`,\n        `[${condition.attributes}]*[${condition.weights}]>=${\n            threshold_format(condition.threshold)}`,\n        output);\n    return;\n  }\n\n  display_node_text(\n      options, `Non supported condition ${condition.type}`, output);\n}\n\n/**\n * Adds a value inside of a node.\n * @param {!options} options Dictionary of configurations.\n * @param {!value} value Value to display.\n * @param {!output} output Output display accumulator.\n */\nfunction display_value(options, value, output) {\n  if (value.type === 'PROBABILITY') {\n    const left_margin = 0;\n    const right_margin = 50;\n    const plot_width = options.node_x_size - options.node_padding * 2 -\n        left_margin - right_margin;\n\n    let cusum = Array.from(d3.cumsum(value.distribution));\n    cusum.unshift(0);\n    const distribution_plot = output.content.append('g').attr(\n        'transform', `translate(0,${output.vertical_offset + 0.5})`);\n\n    distribution_plot.selectAll('rect')\n        .data(value.distribution)\n        .join('rect')\n        .attr('height', 10)\n        .attr(\n            'x',\n            (d, i) =>\n                (cusum[i] * plot_width + left_margin + options.node_padding))\n        .attr('width', (d, i) => d * plot_width)\n        .style('fill', (d, i) => d3.schemeSet1[i]);\n\n    const num_examples =\n        output.content.append('g')\n            .attr('transform', `translate(0,${output.vertical_offset})`)\n            .append('text')\n            .attr('x', options.node_x_size - options.node_padding)\n            .attr('alignment-baseline', 'hanging')\n            .attr('text-anchor', 'end')\n            .text(`(${value.num_examples})`);\n\n    const distribution_details = d3.create('ul');\n    distribution_details.selectAll('li')\n        .data(value.distribution)\n        .join('li')\n        .append('span')\n        .text(\n            (d, i) =>\n                'class ' + i + ': ' + d3.format('.3%')(value.distribution[i]));\n\n    add_tooltip(options, distribution_plot, () => distribution_details.html());\n    add_tooltip(options, num_examples, () => 'Number of examples');\n\n    output.vertical_offset += 10;\n    return;\n  }\n\n  if (value.type === 'REGRESSION') {\n    display_node_text(\n        options,\n        'value: ' + d3.format('r')(value.value) + ` (` +\n            d3.format('.6')(value.num_examples) + `)`,\n        output);\n    return;\n  }\n\n  display_node_text(options, `Non supported value ${value.type}`, output);\n}\n\n/**\n * Adds an explanation inside of a node.\n * @param {!options} options Dictionary of configurations.\n * @param {!explanation} explanation Explanation to display.\n * @param {!output} output Output display accumulator.\n */\nfunction display_explanation(options, explanation, output) {\n  // Margin before the explanation.\n  output.vertical_offset += 10;\n\n  display_node_text(\n      options, `Non supported explanation ${explanation.type}`, output);\n}\n\n\n/**\n * Draw the edges of the tree.\n * @param {!options} options Dictionary of configurations.\n * @param {!graph} graph D3 search handle containing the graph.\n * @param {!tree_struct} tree_struct Structure of the tree (node placement,\n *     data, etc.).\n */\nfunction display_edges(options, graph, tree_struct) {\n  // Draw an edge between a parent and a child node with a bezier.\n  function draw_single_edge(d) {\n    return 'M' + (d.source.y + options.node_x_size) + ',' + d.source.x + ' C' +\n        (d.source.y + options.node_x_size + options.edge_rounding) + ',' +\n        d.source.x + ' ' + (d.target.y - options.edge_rounding) + ',' +\n        d.target.x + ' ' + d.target.y + ',' + d.target.x;\n  }\n\n  graph.append('g')\n      .attr('fill', 'none')\n      .attr('stroke-width', 1.2)\n      .selectAll('path')\n      .data(tree_struct.links())\n      .join('path')\n      .attr('d', draw_single_edge)\n      .attr(\n          'stroke', d => (d.target === d.source.children[0]) ? '#0F0' : '#F00');\n}\n\ndisplay_tree({\"margin\": 10, \"node_x_size\": 160, \"node_y_size\": 28, \"node_x_offset\": 180, \"node_y_offset\": 33, \"font_size\": 10, \"edge_rounding\": 20, \"node_padding\": 2, \"show_plot_bounding_box\": false}, {\"value\": {\"type\": \"PROBABILITY\", \"distribution\": [0.4974117105717244, 0.5025882894282756], \"num_examples\": 8693.0}, \"condition\": {\"type\": \"NUMERICAL_SPARSE_OBLIQUE\", \"attributes\": [\"FoodCourt\", \"RoomService\", \"Spa\"], \"weights\": [3.354241562192328e-05, -6.979828322073445e-05, -4.4626918679568917e-05], \"threshold\": -2.0785373635590076e-06}, \"children\": [{\"value\": {\"type\": \"PROBABILITY\", \"distribution\": [0.3057653343157119, 0.694234665684288], \"num_examples\": 5429.0}, \"condition\": {\"type\": \"NUMERICAL_SPARSE_OBLIQUE\", \"attributes\": [\"CryoSleep\", \"FoodCourt\"], \"weights\": [1.0, -3.354241562192328e-05], \"threshold\": 0.9068359136581421}, \"children\": [{\"value\": {\"type\": \"PROBABILITY\", \"distribution\": [0.18848332284455632, 0.8115166771554436], \"num_examples\": 3178.0}, \"condition\": {\"type\": \"CATEGORICAL_IS_IN\", \"attribute\": \"HomePlanet\", \"mask\": [\"Europa\", \"Mars\"]}, \"children\": [{\"value\": {\"type\": \"PROBABILITY\", \"distribution\": [0.049641148325358854, 0.9503588516746412], \"num_examples\": 1672.0}, \"condition\": {\"type\": \"CATEGORICAL_IS_IN\", \"attribute\": \"Deck\", \"mask\": [\"F\", \"B\", \"C\", \"D\", \"A\"]}}, {\"value\": {\"type\": \"PROBABILITY\", \"distribution\": [0.3426294820717131, 0.6573705179282868], \"num_examples\": 1506.0}, \"condition\": {\"type\": \"CATEGORICAL_IS_IN\", \"attribute\": \"Destination\", \"mask\": [\"TRAPPIST-1e\", \"PSO J318.5-22\"]}}]}, {\"value\": {\"type\": \"PROBABILITY\", \"distribution\": [0.4713460684140382, 0.5286539315859617], \"num_examples\": 2251.0}, \"condition\": {\"type\": \"NUMERICAL_SPARSE_OBLIQUE\", \"attributes\": [\"RoomService\", \"ShoppingMall\"], \"weights\": [6.979828322073445e-05, -4.256768443156034e-05], \"threshold\": -0.050421424210071564}, \"children\": [{\"value\": {\"type\": \"PROBABILITY\", \"distribution\": [0.4860027535566774, 0.5139972464433227], \"num_examples\": 2179.0}, \"condition\": {\"type\": \"NUMERICAL_SPARSE_OBLIQUE\", \"attributes\": [\"VRDeck\"], \"weights\": [1.0], \"threshold\": 602.0}}, {\"value\": {\"type\": \"PROBABILITY\", \"distribution\": [0.027777777777777776, 0.9722222222222222], \"num_examples\": 72.0}, \"condition\": {\"type\": \"CATEGORICAL_IS_IN\", \"attribute\": \"Deck\", \"mask\": [\"G\", \"D\"]}}]}]}, {\"value\": {\"type\": \"PROBABILITY\", \"distribution\": [0.8161764705882353, 0.18382352941176472], \"num_examples\": 3264.0}, \"condition\": {\"type\": \"NUMERICAL_SPARSE_OBLIQUE\", \"attributes\": [\"CryoSleep\", \"RoomService\", \"VRDeck\"], \"weights\": [-1.0, -6.979828322073445e-05, -4.1437036998104304e-05], \"threshold\": -0.024795349687337875}, \"children\": [{\"value\": {\"type\": \"PROBABILITY\", \"distribution\": [0.7307142857142858, 0.2692857142857143], \"num_examples\": 1400.0}, \"condition\": {\"type\": \"NUMERICAL_SPARSE_OBLIQUE\", \"attributes\": [\"Spa\"], \"weights\": [1.0], \"threshold\": 451.5}, \"children\": [{\"value\": {\"type\": \"PROBABILITY\", \"distribution\": [0.8882907133243607, 0.1117092866756393], \"num_examples\": 743.0}, \"condition\": {\"type\": \"NUMERICAL_SPARSE_OBLIQUE\", \"attributes\": [\"RoomService\", \"ShoppingMall\"], \"weights\": [6.979828322073445e-05, -4.256768443156034e-05], \"threshold\": -0.056856971234083176}}, {\"value\": {\"type\": \"PROBABILITY\", \"distribution\": [0.5525114155251142, 0.4474885844748858], \"num_examples\": 657.0}, \"condition\": {\"type\": \"NUMERICAL_SPARSE_OBLIQUE\", \"attributes\": [\"ShoppingMall\"], \"weights\": [1.0], \"threshold\": 1208.0}}]}, {\"value\": {\"type\": \"PROBABILITY\", \"distribution\": [0.8803648068669528, 0.11963519313304721], \"num_examples\": 1864.0}, \"condition\": {\"type\": \"NUMERICAL_SPARSE_OBLIQUE\", \"attributes\": [\"VRDeck\"], \"weights\": [1.0], \"threshold\": 1297.5}, \"children\": [{\"value\": {\"type\": \"PROBABILITY\", \"distribution\": [0.9901477832512315, 0.009852216748768473], \"num_examples\": 203.0}, \"condition\": {\"type\": \"NUMERICAL_SPARSE_OBLIQUE\", \"attributes\": [\"Age\", \"Spa\", \"VIP\"], \"weights\": [0.012658228166401386, -4.4626918679568917e-05, -1.0], \"threshold\": 0.46430355310440063}}, {\"value\": {\"type\": \"PROBABILITY\", \"distribution\": [0.8669476219145094, 0.13305237808549067], \"num_examples\": 1661.0}, \"condition\": {\"type\": \"NUMERICAL_SPARSE_OBLIQUE\", \"attributes\": [\"CryoSleep\", \"FoodCourt\", \"RoomService\"], \"weights\": [-1.0, -3.354241562192328e-05, 6.979828322073445e-05], \"threshold\": 0.08435122668743134}}]}]}]}, \"#tree_plot_84fcfe1c9b7d40e5902722566e469a31\")\n</script>\n"
     },
     "execution_count": 36,
     "metadata": {},
     "output_type": "execute_result"
    }
   ],
   "source": [
    "tfdf.model_plotter.plot_model_in_colab(rf, tree_idx=0, max_depth=3)"
   ],
   "metadata": {
    "pycharm": {
     "name": "#%%\n"
    },
    "id": "S6N0ealAgFZx",
    "outputId": "6399ea2d-3979-414d-8a43-3e32bfd13f98",
    "colab": {
     "base_uri": "https://localhost:8080/",
     "height": 405
    }
   }
  },
  {
   "cell_type": "markdown",
   "source": [
    "### Criando uma submissão"
   ],
   "metadata": {
    "collapsed": false,
    "pycharm": {
     "name": "#%% md\n"
    },
    "id": "x9MK2tldgFZx"
   }
  },
  {
   "cell_type": "code",
   "execution_count": 37,
   "outputs": [],
   "source": [
    "id = test.PassengerId\n",
    "test_ = test.drop(['PassengerId', 'Name'], axis=1)"
   ],
   "metadata": {
    "pycharm": {
     "name": "#%%\n"
    },
    "id": "2Qnn0CSKgFZx"
   }
  },
  {
   "cell_type": "code",
   "execution_count": 38,
   "outputs": [],
   "source": [
    "num_cols = test_.select_dtypes(include=['int64', 'float64']).columns\n",
    "test_[num_cols] = test_[num_cols].fillna(0)"
   ],
   "metadata": {
    "pycharm": {
     "name": "#%%\n"
    },
    "id": "sJ0nzI17gFZx"
   }
  },
  {
   "cell_type": "code",
   "execution_count": 39,
   "outputs": [],
   "source": [
    "test_.VIP = test_.VIP.astype(bool).astype(int)\n",
    "test_.CryoSleep = test_.CryoSleep.astype(bool).astype(int)"
   ],
   "metadata": {
    "pycharm": {
     "name": "#%%\n"
    },
    "id": "32YfRqSPgFZy"
   }
  },
  {
   "cell_type": "code",
   "execution_count": 40,
   "outputs": [],
   "source": [
    "test_[['Deck', 'Cabin', 'Side']] = test_.Cabin.str.split('/', expand=True)\n",
    "try:\n",
    "    test_ = test_.drop(['Cabin'], axis=1)\n",
    "except:\n",
    "    pass"
   ],
   "metadata": {
    "pycharm": {
     "name": "#%%\n"
    },
    "id": "Kw-t5n0AgFZy"
   }
  },
  {
   "cell_type": "code",
   "execution_count": 41,
   "outputs": [
    {
     "data": {
      "text/plain": "  HomePlanet  CryoSleep  Destination   Age  VIP  RoomService  FoodCourt   \n0      Earth          1  TRAPPIST-1e  27.0    0          0.0        0.0  \\\n1      Earth          0  TRAPPIST-1e  19.0    0          0.0        9.0   \n2     Europa          1  55 Cancri e  31.0    0          0.0        0.0   \n3     Europa          0  TRAPPIST-1e  38.0    0          0.0     6652.0   \n4      Earth          0  TRAPPIST-1e  20.0    0         10.0        0.0   \n\n   ShoppingMall     Spa  VRDeck Deck Side  \n0           0.0     0.0     0.0    G    S  \n1           0.0  2823.0     0.0    F    S  \n2           0.0     0.0     0.0    C    S  \n3           0.0   181.0   585.0    C    S  \n4         635.0     0.0     0.0    F    S  ",
      "text/html": "<div>\n<style scoped>\n    .dataframe tbody tr th:only-of-type {\n        vertical-align: middle;\n    }\n\n    .dataframe tbody tr th {\n        vertical-align: top;\n    }\n\n    .dataframe thead th {\n        text-align: right;\n    }\n</style>\n<table border=\"1\" class=\"dataframe\">\n  <thead>\n    <tr style=\"text-align: right;\">\n      <th></th>\n      <th>HomePlanet</th>\n      <th>CryoSleep</th>\n      <th>Destination</th>\n      <th>Age</th>\n      <th>VIP</th>\n      <th>RoomService</th>\n      <th>FoodCourt</th>\n      <th>ShoppingMall</th>\n      <th>Spa</th>\n      <th>VRDeck</th>\n      <th>Deck</th>\n      <th>Side</th>\n    </tr>\n  </thead>\n  <tbody>\n    <tr>\n      <th>0</th>\n      <td>Earth</td>\n      <td>1</td>\n      <td>TRAPPIST-1e</td>\n      <td>27.0</td>\n      <td>0</td>\n      <td>0.0</td>\n      <td>0.0</td>\n      <td>0.0</td>\n      <td>0.0</td>\n      <td>0.0</td>\n      <td>G</td>\n      <td>S</td>\n    </tr>\n    <tr>\n      <th>1</th>\n      <td>Earth</td>\n      <td>0</td>\n      <td>TRAPPIST-1e</td>\n      <td>19.0</td>\n      <td>0</td>\n      <td>0.0</td>\n      <td>9.0</td>\n      <td>0.0</td>\n      <td>2823.0</td>\n      <td>0.0</td>\n      <td>F</td>\n      <td>S</td>\n    </tr>\n    <tr>\n      <th>2</th>\n      <td>Europa</td>\n      <td>1</td>\n      <td>55 Cancri e</td>\n      <td>31.0</td>\n      <td>0</td>\n      <td>0.0</td>\n      <td>0.0</td>\n      <td>0.0</td>\n      <td>0.0</td>\n      <td>0.0</td>\n      <td>C</td>\n      <td>S</td>\n    </tr>\n    <tr>\n      <th>3</th>\n      <td>Europa</td>\n      <td>0</td>\n      <td>TRAPPIST-1e</td>\n      <td>38.0</td>\n      <td>0</td>\n      <td>0.0</td>\n      <td>6652.0</td>\n      <td>0.0</td>\n      <td>181.0</td>\n      <td>585.0</td>\n      <td>C</td>\n      <td>S</td>\n    </tr>\n    <tr>\n      <th>4</th>\n      <td>Earth</td>\n      <td>0</td>\n      <td>TRAPPIST-1e</td>\n      <td>20.0</td>\n      <td>0</td>\n      <td>10.0</td>\n      <td>0.0</td>\n      <td>635.0</td>\n      <td>0.0</td>\n      <td>0.0</td>\n      <td>F</td>\n      <td>S</td>\n    </tr>\n  </tbody>\n</table>\n</div>"
     },
     "execution_count": 41,
     "metadata": {},
     "output_type": "execute_result"
    }
   ],
   "source": [
    "test_.head()"
   ],
   "metadata": {
    "pycharm": {
     "name": "#%%\n"
    },
    "id": "QIepSqkAgFZy",
    "outputId": "ffa8eece-8a72-424e-e50f-cda45ee34d27",
    "colab": {
     "base_uri": "https://localhost:8080/",
     "height": 206
    }
   }
  },
  {
   "cell_type": "code",
   "execution_count": 42,
   "outputs": [],
   "source": [
    "test_ds = tfdf.keras.pd_dataframe_to_tf_dataset(test_)"
   ],
   "metadata": {
    "pycharm": {
     "name": "#%%\n"
    },
    "id": "s_R7_cglgFZy"
   }
  },
  {
   "cell_type": "code",
   "execution_count": 43,
   "outputs": [
    {
     "name": "stdout",
     "output_type": "stream",
     "text": [
      "1/5 [=====>........................] - ETA: 0s"
     ]
    },
    {
     "name": "stderr",
     "output_type": "stream",
     "text": [
      "2023-04-26 20:19:13.446424: I tensorflow/core/common_runtime/executor.cc:1197] [/device:CPU:0] (DEBUG INFO) Executor start aborting (this does not indicate an error and you can ignore this message): INVALID_ARGUMENT: You must feed a value for placeholder tensor 'Placeholder/_10' with dtype int64 and shape [4277]\n",
      "\t [[{{node Placeholder/_10}}]]\n"
     ]
    },
    {
     "name": "stdout",
     "output_type": "stream",
     "text": [
      "5/5 [==============================] - 1s 94ms/step\n"
     ]
    }
   ],
   "source": [
    "predictions = rf.predict(test_ds)"
   ],
   "metadata": {
    "pycharm": {
     "name": "#%%\n"
    },
    "id": "aILbu9xrgFZy",
    "outputId": "36f4709a-fb49-4a2d-9b95-8944e28a8ef3",
    "colab": {
     "base_uri": "https://localhost:8080/"
    }
   }
  },
  {
   "cell_type": "code",
   "execution_count": 44,
   "outputs": [],
   "source": [
    "predictions = (predictions > 0.5).astype(bool)"
   ],
   "metadata": {
    "pycharm": {
     "name": "#%%\n"
    },
    "id": "10GXl55IgFZz"
   }
  },
  {
   "cell_type": "code",
   "execution_count": 45,
   "outputs": [],
   "source": [
    "submission = pd.DataFrame({'PassengerId': id, 'Transported': predictions.squeeze()})"
   ],
   "metadata": {
    "pycharm": {
     "name": "#%%\n"
    },
    "id": "e4N0Uc0DgFZz"
   }
  },
  {
   "cell_type": "code",
   "execution_count": 46,
   "outputs": [
    {
     "data": {
      "text/plain": "  PassengerId  Transported\n0     0013_01         True\n1     0018_01        False\n2     0019_01         True\n3     0021_01         True\n4     0023_01         True",
      "text/html": "<div>\n<style scoped>\n    .dataframe tbody tr th:only-of-type {\n        vertical-align: middle;\n    }\n\n    .dataframe tbody tr th {\n        vertical-align: top;\n    }\n\n    .dataframe thead th {\n        text-align: right;\n    }\n</style>\n<table border=\"1\" class=\"dataframe\">\n  <thead>\n    <tr style=\"text-align: right;\">\n      <th></th>\n      <th>PassengerId</th>\n      <th>Transported</th>\n    </tr>\n  </thead>\n  <tbody>\n    <tr>\n      <th>0</th>\n      <td>0013_01</td>\n      <td>True</td>\n    </tr>\n    <tr>\n      <th>1</th>\n      <td>0018_01</td>\n      <td>False</td>\n    </tr>\n    <tr>\n      <th>2</th>\n      <td>0019_01</td>\n      <td>True</td>\n    </tr>\n    <tr>\n      <th>3</th>\n      <td>0021_01</td>\n      <td>True</td>\n    </tr>\n    <tr>\n      <th>4</th>\n      <td>0023_01</td>\n      <td>True</td>\n    </tr>\n  </tbody>\n</table>\n</div>"
     },
     "execution_count": 46,
     "metadata": {},
     "output_type": "execute_result"
    }
   ],
   "source": [
    "submission.head()"
   ],
   "metadata": {
    "pycharm": {
     "name": "#%%\n"
    },
    "id": "t1bchykggFZz",
    "outputId": "787f62d0-7bb5-4196-a383-34433e24f63e",
    "colab": {
     "base_uri": "https://localhost:8080/",
     "height": 206
    }
   }
  },
  {
   "cell_type": "code",
   "execution_count": 47,
   "outputs": [],
   "source": [
    "# submission.to_csv(os.path.join('submission', 'submission3.csv'), index=False)"
   ],
   "metadata": {
    "pycharm": {
     "name": "#%%\n"
    },
    "id": "ErYZCtNEgFZz"
   }
  },
  {
   "cell_type": "markdown",
   "source": [
    "---"
   ],
   "metadata": {
    "collapsed": false,
    "pycharm": {
     "name": "#%% md\n"
    }
   }
  },
  {
   "cell_type": "markdown",
   "source": [
    "### Utilizando uma Gradient Boosted Tree"
   ],
   "metadata": {
    "collapsed": false,
    "pycharm": {
     "name": "#%% md\n"
    }
   }
  },
  {
   "cell_type": "code",
   "execution_count": 48,
   "outputs": [
    {
     "name": "stdout",
     "output_type": "stream",
     "text": [
      "Resolve hyper-parameter template \"benchmark_rank1\" to \"benchmark_rank1@v1\" -> {'growing_strategy': 'BEST_FIRST_GLOBAL', 'categorical_algorithm': 'RANDOM', 'split_axis': 'SPARSE_OBLIQUE', 'sparse_oblique_normalization': 'MIN_MAX', 'sparse_oblique_num_projections_exponent': 1.0}.\n",
      "Use /tmp/tmphihvda2f as temporary training directory\n"
     ]
    },
    {
     "name": "stderr",
     "output_type": "stream",
     "text": [
      "[WARNING 23-04-26 20:19:14.0058 -03 gradient_boosted_trees.cc:1797] \"goss_alpha\" set but \"sampling_method\" not equal to \"GOSS\".\n",
      "[WARNING 23-04-26 20:19:14.0058 -03 gradient_boosted_trees.cc:1808] \"goss_beta\" set but \"sampling_method\" not equal to \"GOSS\".\n",
      "[WARNING 23-04-26 20:19:14.0058 -03 gradient_boosted_trees.cc:1822] \"selective_gradient_boosting_ratio\" set but \"sampling_method\" not equal to \"SELGB\".\n"
     ]
    }
   ],
   "source": [
    "gbt = tfdf.keras.GradientBoostedTreesModel(hyperparameter_template='benchmark_rank1')"
   ],
   "metadata": {
    "collapsed": false,
    "pycharm": {
     "name": "#%%\n"
    }
   }
  },
  {
   "cell_type": "code",
   "execution_count": 49,
   "outputs": [],
   "source": [
    "gbt.compile(metrics=['accuracy'])"
   ],
   "metadata": {
    "collapsed": false,
    "pycharm": {
     "name": "#%%\n"
    }
   }
  },
  {
   "cell_type": "code",
   "execution_count": 50,
   "outputs": [
    {
     "name": "stdout",
     "output_type": "stream",
     "text": [
      "Reading training dataset...\n",
      "Training dataset read in 0:00:00.263965. Found 8693 examples.\n",
      "Training model...\n",
      "Model trained in 0:00:03.674321\n",
      "Compiling model...\n",
      "Model compiled.\n"
     ]
    },
    {
     "name": "stderr",
     "output_type": "stream",
     "text": [
      "[INFO 23-04-26 20:19:38.0589 -03 kernel.cc:1242] Loading model from path /tmp/tmphihvda2f/model/ with prefix cd236a782a5c4cf0\n",
      "[INFO 23-04-26 20:19:38.0861 -03 decision_forest.cc:660] Model loaded with 93 root(s), 5465 node(s), and 12 input feature(s).\n",
      "[INFO 23-04-26 20:19:38.0863 -03 abstract_model.cc:1311] Engine \"GradientBoostedTreesGeneric\" built\n",
      "[INFO 23-04-26 20:19:38.0865 -03 kernel.cc:1074] Use fast generic engine\n",
      "2023-04-26 20:19:38.097442: I tensorflow/core/common_runtime/executor.cc:1197] [/device:CPU:0] (DEBUG INFO) Executor start aborting (this does not indicate an error and you can ignore this message): INVALID_ARGUMENT: You must feed a value for placeholder tensor 'Placeholder/_6' with dtype double and shape [8693]\n",
      "\t [[{{node Placeholder/_6}}]]\n"
     ]
    },
    {
     "data": {
      "text/plain": "<keras.callbacks.History at 0x7f1e1424c9d0>"
     },
     "execution_count": 50,
     "metadata": {},
     "output_type": "execute_result"
    }
   ],
   "source": [
    "gbt.fit(x=train_ds)"
   ],
   "metadata": {
    "collapsed": false,
    "pycharm": {
     "name": "#%%\n"
    }
   }
  },
  {
   "cell_type": "code",
   "execution_count": 51,
   "outputs": [
    {
     "data": {
      "text/plain": "<IPython.core.display.HTML object>",
      "text/html": "\n<script src=\"https://d3js.org/d3.v6.min.js\"></script>\n<div id=\"tree_plot_e57534290a7c455881f7863ddde8a782\"></div>\n<script>\n/*\n * Copyright 2021 Google LLC.\n * Licensed under the Apache License, Version 2.0 (the \"License\");\n * you may not use this file except in compliance with the License.\n * You may obtain a copy of the License at\n *\n *     https://www.apache.org/licenses/LICENSE-2.0\n *\n * Unless required by applicable law or agreed to in writing, software\n * distributed under the License is distributed on an \"AS IS\" BASIS,\n * WITHOUT WARRANTIES OR CONDITIONS OF ANY KIND, either express or implied.\n * See the License for the specific language governing permissions and\n * limitations under the License.\n */\n\n/**\n *  Plotting of decision trees generated by TF-DF.\n *\n *  A tree is a recursive structure of node objects.\n *  A node contains one or more of the following components:\n *\n *    - A value: Representing the output of the node. If the node is not a leaf,\n *      the value is only present for analysis i.e. it is not used for\n *      predictions.\n *\n *    - A condition : For non-leaf nodes, the condition (also known as split)\n *      defines a binary test to branch to the positive or negative child.\n *\n *    - An explanation: Generally a plot showing the relation between the label\n *      and the condition to give insights about the effect of the condition.\n *\n *    - Two children : For non-leaf nodes, the children nodes. The first\n *      children (i.e. \"node.children[0]\") is the negative children (drawn in\n *      red). The second children is the positive one (drawn in green).\n *\n */\n\n/**\n * Plots a single decision tree into a DOM element.\n * @param {!options} options Dictionary of configurations.\n * @param {!tree} raw_tree Recursive tree structure.\n * @param {string} canvas_id Id of the output dom element.\n */\nfunction display_tree(options, raw_tree, canvas_id) {\n  console.log(options);\n\n  // Determine the node placement.\n  const tree_struct = d3.tree().nodeSize(\n      [options.node_y_offset, options.node_x_offset])(d3.hierarchy(raw_tree));\n\n  // Boundaries of the node placement.\n  let x_min = Infinity;\n  let x_max = -x_min;\n  let y_min = Infinity;\n  let y_max = -x_min;\n\n  tree_struct.each(d => {\n    if (d.x > x_max) x_max = d.x;\n    if (d.x < x_min) x_min = d.x;\n    if (d.y > y_max) y_max = d.y;\n    if (d.y < y_min) y_min = d.y;\n  });\n\n  // Size of the plot.\n  const width = y_max - y_min + options.node_x_size + options.margin * 2;\n  const height = x_max - x_min + options.node_y_size + options.margin * 2 +\n      options.node_y_offset - options.node_y_size;\n\n  const plot = d3.select(canvas_id);\n\n  // Tool tip\n  options.tooltip = plot.append('div')\n                        .attr('width', 100)\n                        .attr('height', 100)\n                        .style('padding', '4px')\n                        .style('background', '#fff')\n                        .style('box-shadow', '4px 4px 0px rgba(0,0,0,0.1)')\n                        .style('border', '1px solid black')\n                        .style('font-family', 'sans-serif')\n                        .style('font-size', options.font_size)\n                        .style('position', 'absolute')\n                        .style('z-index', '10')\n                        .attr('pointer-events', 'none')\n                        .style('display', 'none');\n\n  // Create canvas\n  const svg = plot.append('svg').attr('width', width).attr('height', height);\n  const graph =\n      svg.style('overflow', 'visible')\n          .append('g')\n          .attr('font-family', 'sans-serif')\n          .attr('font-size', options.font_size)\n          .attr(\n              'transform',\n              () => `translate(${options.margin},${\n                  - x_min + options.node_y_offset / 2 + options.margin})`);\n\n  // Plot bounding box.\n  if (options.show_plot_bounding_box) {\n    svg.append('rect')\n        .attr('width', width)\n        .attr('height', height)\n        .attr('fill', 'none')\n        .attr('stroke-width', 1.0)\n        .attr('stroke', 'black');\n  }\n\n  // Draw the edges.\n  display_edges(options, graph, tree_struct);\n\n  // Draw the nodes.\n  display_nodes(options, graph, tree_struct);\n}\n\n/**\n * Draw the nodes of the tree.\n * @param {!options} options Dictionary of configurations.\n * @param {!graph} graph D3 search handle containing the graph.\n * @param {!tree_struct} tree_struct Structure of the tree (node placement,\n *     data, etc.).\n */\nfunction display_nodes(options, graph, tree_struct) {\n  const nodes = graph.append('g')\n                    .selectAll('g')\n                    .data(tree_struct.descendants())\n                    .join('g')\n                    .attr('transform', d => `translate(${d.y},${d.x})`);\n\n  nodes.append('rect')\n      .attr('x', 0.5)\n      .attr('y', 0.5)\n      .attr('width', options.node_x_size)\n      .attr('height', options.node_y_size)\n      .attr('stroke', 'lightgrey')\n      .attr('stroke-width', 1)\n      .attr('fill', 'white')\n      .attr('y', -options.node_y_size / 2);\n\n  // Brackets on the right of condition nodes without children.\n  non_leaf_node_without_children =\n      nodes.filter(node => node.data.condition != null && node.children == null)\n          .append('g')\n          .attr('transform', `translate(${options.node_x_size},0)`);\n\n  non_leaf_node_without_children.append('path')\n      .attr('d', 'M0,0 C 10,0 0,10 10,10')\n      .attr('fill', 'none')\n      .attr('stroke-width', 1.0)\n      .attr('stroke', '#F00');\n\n  non_leaf_node_without_children.append('path')\n      .attr('d', 'M0,0 C 10,0 0,-10 10,-10')\n      .attr('fill', 'none')\n      .attr('stroke-width', 1.0)\n      .attr('stroke', '#0F0');\n\n  const node_content = nodes.append('g').attr(\n      'transform',\n      `translate(0,${options.node_padding - options.node_y_size / 2})`);\n\n  node_content.append(node => create_node_element(options, node));\n}\n\n/**\n * Creates the D3 content for a single node.\n * @param {!options} options Dictionary of configurations.\n * @param {!node} node Node to draw.\n * @return {!d3} D3 content.\n */\nfunction create_node_element(options, node) {\n  // Output accumulator.\n  let output = {\n    // Content to draw.\n    content: d3.create('svg:g'),\n    // Vertical offset to the next element to draw.\n    vertical_offset: 0\n  };\n\n  // Conditions.\n  if (node.data.condition != null) {\n    display_condition(options, node.data.condition, output);\n  }\n\n  // Values.\n  if (node.data.value != null) {\n    display_value(options, node.data.value, output);\n  }\n\n  // Explanations.\n  if (node.data.explanation != null) {\n    display_explanation(options, node.data.explanation, output);\n  }\n\n  return output.content.node();\n}\n\n\n/**\n * Adds a single line of text inside of a node.\n * @param {!options} options Dictionary of configurations.\n * @param {string} text Text to display.\n * @param {!output} output Output display accumulator.\n */\nfunction display_node_text(options, text, output) {\n  output.content.append('text')\n      .attr('x', options.node_padding)\n      .attr('y', output.vertical_offset)\n      .attr('alignment-baseline', 'hanging')\n      .text(text);\n  output.vertical_offset += 10;\n}\n\n/**\n * Adds a single line of text inside of a node with a tooltip.\n * @param {!options} options Dictionary of configurations.\n * @param {string} text Text to display.\n * @param {string} tooltip Text in the Tooltip.\n * @param {!output} output Output display accumulator.\n */\nfunction display_node_text_with_tooltip(options, text, tooltip, output) {\n  const item = output.content.append('text')\n                   .attr('x', options.node_padding)\n                   .attr('alignment-baseline', 'hanging')\n                   .text(text);\n\n  add_tooltip(options, item, () => tooltip);\n  output.vertical_offset += 10;\n}\n\n/**\n * Adds a tooltip to a dom element.\n * @param {!options} options Dictionary of configurations.\n * @param {!dom} target Dom element to equip with a tooltip.\n * @param {!func} get_content Generates the html content of the tooltip.\n */\nfunction add_tooltip(options, target, get_content) {\n  function show(d) {\n    options.tooltip.style('display', 'block');\n    options.tooltip.html(get_content());\n  }\n\n  function hide(d) {\n    options.tooltip.style('display', 'none');\n  }\n\n  function move(d) {\n    options.tooltip.style('display', 'block');\n    options.tooltip.style('left', (d.pageX + 5) + 'px');\n    options.tooltip.style('top', d.pageY + 'px');\n  }\n\n  target.on('mouseover', show);\n  target.on('mouseout', hide);\n  target.on('mousemove', move);\n}\n\n/**\n * Adds a condition inside of a node.\n * @param {!options} options Dictionary of configurations.\n * @param {!condition} condition Condition to display.\n * @param {!output} output Output display accumulator.\n */\nfunction display_condition(options, condition, output) {\n  threshold_format = d3.format('r');\n\n  if (condition.type === 'IS_MISSING') {\n    display_node_text(options, `${condition.attribute} is missing`, output);\n    return;\n  }\n\n  if (condition.type === 'IS_TRUE') {\n    display_node_text(options, `${condition.attribute} is true`, output);\n    return;\n  }\n\n  if (condition.type === 'NUMERICAL_IS_HIGHER_THAN') {\n    format = d3.format('r');\n    display_node_text(\n        options,\n        `${condition.attribute} >= ${threshold_format(condition.threshold)}`,\n        output);\n    return;\n  }\n\n  if (condition.type === 'CATEGORICAL_IS_IN') {\n    display_node_text_with_tooltip(\n        options, `${condition.attribute} in [...]`,\n        `${condition.attribute} in [${condition.mask}]`, output);\n    return;\n  }\n\n  if (condition.type === 'CATEGORICAL_SET_CONTAINS') {\n    display_node_text_with_tooltip(\n        options, `${condition.attribute} intersect [...]`,\n        `${condition.attribute} intersect [${condition.mask}]`, output);\n    return;\n  }\n\n  if (condition.type === 'NUMERICAL_SPARSE_OBLIQUE') {\n    display_node_text_with_tooltip(\n        options, `Sparse oblique split...`,\n        `[${condition.attributes}]*[${condition.weights}]>=${\n            threshold_format(condition.threshold)}`,\n        output);\n    return;\n  }\n\n  display_node_text(\n      options, `Non supported condition ${condition.type}`, output);\n}\n\n/**\n * Adds a value inside of a node.\n * @param {!options} options Dictionary of configurations.\n * @param {!value} value Value to display.\n * @param {!output} output Output display accumulator.\n */\nfunction display_value(options, value, output) {\n  if (value.type === 'PROBABILITY') {\n    const left_margin = 0;\n    const right_margin = 50;\n    const plot_width = options.node_x_size - options.node_padding * 2 -\n        left_margin - right_margin;\n\n    let cusum = Array.from(d3.cumsum(value.distribution));\n    cusum.unshift(0);\n    const distribution_plot = output.content.append('g').attr(\n        'transform', `translate(0,${output.vertical_offset + 0.5})`);\n\n    distribution_plot.selectAll('rect')\n        .data(value.distribution)\n        .join('rect')\n        .attr('height', 10)\n        .attr(\n            'x',\n            (d, i) =>\n                (cusum[i] * plot_width + left_margin + options.node_padding))\n        .attr('width', (d, i) => d * plot_width)\n        .style('fill', (d, i) => d3.schemeSet1[i]);\n\n    const num_examples =\n        output.content.append('g')\n            .attr('transform', `translate(0,${output.vertical_offset})`)\n            .append('text')\n            .attr('x', options.node_x_size - options.node_padding)\n            .attr('alignment-baseline', 'hanging')\n            .attr('text-anchor', 'end')\n            .text(`(${value.num_examples})`);\n\n    const distribution_details = d3.create('ul');\n    distribution_details.selectAll('li')\n        .data(value.distribution)\n        .join('li')\n        .append('span')\n        .text(\n            (d, i) =>\n                'class ' + i + ': ' + d3.format('.3%')(value.distribution[i]));\n\n    add_tooltip(options, distribution_plot, () => distribution_details.html());\n    add_tooltip(options, num_examples, () => 'Number of examples');\n\n    output.vertical_offset += 10;\n    return;\n  }\n\n  if (value.type === 'REGRESSION') {\n    display_node_text(\n        options,\n        'value: ' + d3.format('r')(value.value) + ` (` +\n            d3.format('.6')(value.num_examples) + `)`,\n        output);\n    return;\n  }\n\n  display_node_text(options, `Non supported value ${value.type}`, output);\n}\n\n/**\n * Adds an explanation inside of a node.\n * @param {!options} options Dictionary of configurations.\n * @param {!explanation} explanation Explanation to display.\n * @param {!output} output Output display accumulator.\n */\nfunction display_explanation(options, explanation, output) {\n  // Margin before the explanation.\n  output.vertical_offset += 10;\n\n  display_node_text(\n      options, `Non supported explanation ${explanation.type}`, output);\n}\n\n\n/**\n * Draw the edges of the tree.\n * @param {!options} options Dictionary of configurations.\n * @param {!graph} graph D3 search handle containing the graph.\n * @param {!tree_struct} tree_struct Structure of the tree (node placement,\n *     data, etc.).\n */\nfunction display_edges(options, graph, tree_struct) {\n  // Draw an edge between a parent and a child node with a bezier.\n  function draw_single_edge(d) {\n    return 'M' + (d.source.y + options.node_x_size) + ',' + d.source.x + ' C' +\n        (d.source.y + options.node_x_size + options.edge_rounding) + ',' +\n        d.source.x + ' ' + (d.target.y - options.edge_rounding) + ',' +\n        d.target.x + ' ' + d.target.y + ',' + d.target.x;\n  }\n\n  graph.append('g')\n      .attr('fill', 'none')\n      .attr('stroke-width', 1.2)\n      .selectAll('path')\n      .data(tree_struct.links())\n      .join('path')\n      .attr('d', draw_single_edge)\n      .attr(\n          'stroke', d => (d.target === d.source.children[0]) ? '#0F0' : '#F00');\n}\n\ndisplay_tree({\"margin\": 10, \"node_x_size\": 160, \"node_y_size\": 28, \"node_x_offset\": 180, \"node_y_offset\": 33, \"font_size\": 10, \"edge_rounding\": 20, \"node_padding\": 2, \"show_plot_bounding_box\": false}, {\"value\": {\"type\": \"REGRESSION\", \"value\": -1.9801329464996797e-09, \"num_examples\": 7851.0, \"standard_deviation\": 0.49998179473905896}, \"condition\": {\"type\": \"NUMERICAL_SPARSE_OBLIQUE\", \"attributes\": [\"FoodCourt\", \"RoomService\", \"VRDeck\"], \"weights\": [3.354241562192328e-05, -6.979828322073445e-05, -4.1437036998104304e-05], \"threshold\": -6.498303264379501e-07}, \"children\": [{\"value\": {\"type\": \"REGRESSION\", \"value\": 0.07715173065662384, \"num_examples\": 4847.0, \"standard_deviation\": 0.45949850860986124}, \"condition\": {\"type\": \"NUMERICAL_SPARSE_OBLIQUE\", \"attributes\": [\"Spa\", \"VIP\"], \"weights\": [-4.4626918679568917e-05, 1.0], \"threshold\": -0.018877185881137848}, \"children\": [{\"value\": {\"type\": \"REGRESSION\", \"value\": 0.09804835170507431, \"num_examples\": 4365.0, \"standard_deviation\": 0.4333758310480143}, \"condition\": {\"type\": \"CATEGORICAL_IS_IN\", \"attribute\": \"HomePlanet\", \"mask\": [\"Earth\"]}, \"children\": [{\"value\": {\"type\": \"REGRESSION\", \"value\": 0.04451565071940422, \"num_examples\": 2354.0, \"standard_deviation\": 0.48646547774147375}, \"condition\": {\"type\": \"NUMERICAL_SPARSE_OBLIQUE\", \"attributes\": [\"CryoSleep\", \"RoomService\", \"ShoppingMall\"], \"weights\": [1.0, -6.979828322073445e-05, 4.256768443156034e-05], \"threshold\": 0.02734973654150963}}, {\"value\": {\"type\": \"REGRESSION\", \"value\": 0.16071169078350067, \"num_examples\": 2011.0, \"standard_deviation\": 0.2918051975967518}, \"condition\": {\"type\": \"CATEGORICAL_IS_IN\", \"attribute\": \"Deck\", \"mask\": [\"E\"]}}]}, {\"value\": {\"type\": \"REGRESSION\", \"value\": -0.1120883971452713, \"num_examples\": 482.0, \"standard_deviation\": 0.4169659998355744}, \"condition\": {\"type\": \"NUMERICAL_SPARSE_OBLIQUE\", \"attributes\": [\"FoodCourt\"], \"weights\": [1.0], \"threshold\": 1302.5}, \"children\": [{\"value\": {\"type\": \"REGRESSION\", \"value\": -0.04129313305020332, \"num_examples\": 192.0, \"standard_deviation\": 0.49010942695229004}, \"condition\": {\"type\": \"NUMERICAL_SPARSE_OBLIQUE\", \"attributes\": [\"Spa\", \"VIP\"], \"weights\": [-4.4626918679568917e-05, 1.0], \"threshold\": -0.051677972078323364}}, {\"value\": {\"type\": \"REGRESSION\", \"value\": -0.1589597463607788, \"num_examples\": 290.0, \"standard_deviation\": 0.3089816840481648}}]}]}, {\"value\": {\"type\": \"REGRESSION\", \"value\": -0.12448549270629883, \"num_examples\": 3004.0, \"standard_deviation\": 0.39471204469482096}, \"condition\": {\"type\": \"NUMERICAL_SPARSE_OBLIQUE\", \"attributes\": [\"Spa\"], \"weights\": [1.0], \"threshold\": 620.5}, \"children\": [{\"value\": {\"type\": \"REGRESSION\", \"value\": -0.17686530947685242, \"num_examples\": 515.0, \"standard_deviation\": 0.2414022609875445}}, {\"value\": {\"type\": \"REGRESSION\", \"value\": -0.11364757269620895, \"num_examples\": 2489.0, \"standard_deviation\": 0.4143603135328376}, \"condition\": {\"type\": \"NUMERICAL_SPARSE_OBLIQUE\", \"attributes\": [\"FoodCourt\", \"ShoppingMall\"], \"weights\": [3.354241562192328e-05, 4.256768443156034e-05], \"threshold\": 0.024823686107993126}, \"children\": [{\"value\": {\"type\": \"REGRESSION\", \"value\": -0.045265644788742065, \"num_examples\": 675.0, \"standard_deviation\": 0.4879991926224433}, \"condition\": {\"type\": \"NUMERICAL_SPARSE_OBLIQUE\", \"attributes\": [\"FoodCourt\", \"VRDeck\"], \"weights\": [-3.354241562192328e-05, 4.1437036998104304e-05], \"threshold\": 0.027955565601587296}}, {\"value\": {\"type\": \"REGRESSION\", \"value\": -0.13909289240837097, \"num_examples\": 1814.0, \"standard_deviation\": 0.3633855103170605}, \"condition\": {\"type\": \"CATEGORICAL_IS_IN\", \"attribute\": \"HomePlanet\", \"mask\": [\"Earth\"]}}]}]}]}, \"#tree_plot_e57534290a7c455881f7863ddde8a782\")\n</script>\n"
     },
     "execution_count": 51,
     "metadata": {},
     "output_type": "execute_result"
    }
   ],
   "source": [
    "tfdf.model_plotter.plot_model_in_colab(gbt, tree_idx=0, max_depth=3)"
   ],
   "metadata": {
    "collapsed": false,
    "pycharm": {
     "name": "#%%\n"
    }
   }
  },
  {
   "cell_type": "code",
   "execution_count": 52,
   "outputs": [
    {
     "name": "stdout",
     "output_type": "stream",
     "text": [
      "5/5 [==============================] - 0s 10ms/step\n"
     ]
    }
   ],
   "source": [
    "predictions = gbt.predict(test_ds)"
   ],
   "metadata": {
    "collapsed": false,
    "pycharm": {
     "name": "#%%\n"
    }
   }
  },
  {
   "cell_type": "code",
   "execution_count": 53,
   "outputs": [],
   "source": [
    "predictions = (predictions > 0.5).astype(bool)"
   ],
   "metadata": {
    "collapsed": false,
    "pycharm": {
     "name": "#%%\n"
    }
   }
  },
  {
   "cell_type": "code",
   "execution_count": 54,
   "outputs": [],
   "source": [
    "submission = pd.DataFrame({'PassengerId': id, 'Transported': predictions.squeeze()})"
   ],
   "metadata": {
    "collapsed": false,
    "pycharm": {
     "name": "#%%\n"
    }
   }
  },
  {
   "cell_type": "code",
   "execution_count": 55,
   "outputs": [
    {
     "data": {
      "text/plain": "  PassengerId  Transported\n0     0013_01         True\n1     0018_01        False\n2     0019_01         True\n3     0021_01         True\n4     0023_01         True",
      "text/html": "<div>\n<style scoped>\n    .dataframe tbody tr th:only-of-type {\n        vertical-align: middle;\n    }\n\n    .dataframe tbody tr th {\n        vertical-align: top;\n    }\n\n    .dataframe thead th {\n        text-align: right;\n    }\n</style>\n<table border=\"1\" class=\"dataframe\">\n  <thead>\n    <tr style=\"text-align: right;\">\n      <th></th>\n      <th>PassengerId</th>\n      <th>Transported</th>\n    </tr>\n  </thead>\n  <tbody>\n    <tr>\n      <th>0</th>\n      <td>0013_01</td>\n      <td>True</td>\n    </tr>\n    <tr>\n      <th>1</th>\n      <td>0018_01</td>\n      <td>False</td>\n    </tr>\n    <tr>\n      <th>2</th>\n      <td>0019_01</td>\n      <td>True</td>\n    </tr>\n    <tr>\n      <th>3</th>\n      <td>0021_01</td>\n      <td>True</td>\n    </tr>\n    <tr>\n      <th>4</th>\n      <td>0023_01</td>\n      <td>True</td>\n    </tr>\n  </tbody>\n</table>\n</div>"
     },
     "execution_count": 55,
     "metadata": {},
     "output_type": "execute_result"
    }
   ],
   "source": [
    "submission.head()"
   ],
   "metadata": {
    "collapsed": false,
    "pycharm": {
     "name": "#%%\n"
    }
   }
  },
  {
   "cell_type": "code",
   "execution_count": 56,
   "outputs": [],
   "source": [
    "submission.to_csv(os.path.join('submission', 'submission4.csv'), index=False)"
   ],
   "metadata": {
    "collapsed": false,
    "pycharm": {
     "name": "#%%\n"
    }
   }
  },
  {
   "cell_type": "code",
   "execution_count": null,
   "outputs": [],
   "source": [],
   "metadata": {
    "collapsed": false,
    "pycharm": {
     "name": "#%%\n"
    }
   }
  }
 ],
 "metadata": {
  "kernelspec": {
   "display_name": "Python 3",
   "language": "python",
   "name": "python3"
  },
  "language_info": {
   "codemirror_mode": {
    "name": "ipython",
    "version": 2
   },
   "file_extension": ".py",
   "mimetype": "text/x-python",
   "name": "python",
   "nbconvert_exporter": "python",
   "pygments_lexer": "ipython2",
   "version": "2.7.6"
  },
  "colab": {
   "provenance": [],
   "include_colab_link": true
  }
 },
 "nbformat": 4,
 "nbformat_minor": 0
}